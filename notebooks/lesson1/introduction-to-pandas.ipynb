{
  "cells": [
    {
      "cell_type": "markdown",
      "metadata": {
        "id": "CKIUTNLp5Wrn"
      },
      "source": [
        "## Introduction to Pandas\n",
        "\n",
        "Pandas is one of the most popular choices to load, visualize, clean, and apply statistical techniques to data. It is specially useful in Jupyter Notebooks as it lends itself to iterative exploration with cells."
      ]
    },
    {
      "cell_type": "markdown",
      "metadata": {},
      "source": [
        "### Installation\n",
        "\n",
        "As always, use a virtual environment (or similar) to install pandas and its dependencies:\n",
        "\n",
        "```dotnetcli\n",
        "$ python3 -m venv venv\n",
        "$ source venv/bin/activate\n",
        "```\n",
        "\n",
        "The example above should work for Linux and OSX, but there is support for Windows systems as well. [Follow the documentation if you need help](https://docs.python.org/3/library/venv.html).\n",
        "\n",
        "The package to install is `pandas`"
      ]
    },
    {
      "cell_type": "code",
      "execution_count": 1,
      "metadata": {
        "colab": {
          "base_uri": "https://localhost:8080/"
        },
        "id": "wNlaRyzX5TCV",
        "outputId": "ea1171eb-d39a-492d-9cd7-543cd2fac173"
      },
      "outputs": [
        {
          "name": "stdout",
          "output_type": "stream",
          "text": [
            "Collecting pandas\n",
            "  Using cached pandas-1.4.3-cp39-cp39-macosx_11_0_arm64.whl (10.5 MB)\n",
            "Collecting pytz>=2020.1\n",
            "  Using cached pytz-2022.1-py2.py3-none-any.whl (503 kB)\n",
            "Requirement already satisfied: python-dateutil>=2.8.1 in /Users/alfredodeza/.virtualenvs/bootcamp/lib/python3.9/site-packages (from pandas) (2.8.2)\n",
            "Collecting numpy>=1.20.0\n",
            "  Using cached numpy-1.23.1-cp39-cp39-macosx_11_0_arm64.whl (13.3 MB)\n",
            "Requirement already satisfied: six>=1.5 in /Users/alfredodeza/.virtualenvs/bootcamp/lib/python3.9/site-packages (from python-dateutil>=2.8.1->pandas) (1.16.0)\n",
            "Installing collected packages: pytz, numpy, pandas\n",
            "Successfully installed numpy-1.23.1 pandas-1.4.3 pytz-2022.1\n",
            "\u001b[33mWARNING: You are using pip version 21.2.3; however, version 22.1.2 is available.\n",
            "You should consider upgrading via the '/Users/alfredodeza/.virtualenvs/bootcamp/bin/python3 -m pip install --upgrade pip' command.\u001b[0m\n"
          ]
        }
      ],
      "source": [
        "!pip install pandas\n"
      ]
    },
    {
      "cell_type": "markdown",
      "metadata": {
        "id": "epd1j2QtbGkc"
      },
      "source": [
        "### Common operations in Pandas\n",
        "\n",
        "After installing, you will almost always see Pandas imported with an alias. This an other common practices in pandas are covered in this section."
      ]
    },
    {
      "cell_type": "code",
      "execution_count": 5,
      "metadata": {
        "colab": {
          "base_uri": "https://localhost:8080/",
          "height": 536
        },
        "id": "KW8ppx1oZS00",
        "outputId": "69be5221-2a49-4900-8c88-2a3cfa0ebc28"
      },
      "outputs": [
        {
          "name": "stdout",
          "output_type": "stream",
          "text": [
            "           apples  bananas  oranges\n",
            "Monday          4        2        1\n",
            "Tuesday         3        0        1\n",
            "Wednesday       1        0        0\n"
          ]
        }
      ],
      "source": [
        "import pandas as pd\n",
        "\n",
        "#list of lists\n",
        "data = [[4, 2, 1],\n",
        "        [3, 0, 1],\n",
        "        [1, 0, 0]]\n",
        "\n",
        "\n",
        "columns = ['apples', 'bananas', 'oranges']\n",
        "index = ['Monday', 'Tuesday', 'Wednesday']\n",
        "\n",
        "df = pd.DataFrame(data, index, columns)\n",
        "print(df)"
      ]
    },
    {
      "cell_type": "markdown",
      "metadata": {
        "id": "L2-be7klcP26"
      },
      "source": [
        "Remove any newlines or carriage returns"
      ]
    },
    {
      "cell_type": "code",
      "execution_count": null,
      "metadata": {
        "colab": {
          "base_uri": "https://localhost:8080/",
          "height": 536
        },
        "id": "Cwlr9IajcPSs",
        "outputId": "630d98c4-ddf0-4ded-85a7-9b5c3a274be5"
      },
      "outputs": [],
      "source": [
        "df = df.replace({\"\\r\": \"\"}, regex=True)\n",
        "df = df.replace({\"\\n\": \" \"}, regex=True)\n",
        "df.head(10)"
      ]
    },
    {
      "cell_type": "code",
      "execution_count": null,
      "metadata": {
        "colab": {
          "base_uri": "https://localhost:8080/",
          "height": 300
        },
        "id": "0TgdCnlqfXAC",
        "outputId": "a3806e7a-bc22-475e-bb2d-6f233bf1da92"
      },
      "outputs": [],
      "source": [
        "df.describe()"
      ]
    },
    {
      "cell_type": "code",
      "execution_count": null,
      "metadata": {
        "colab": {
          "base_uri": "https://localhost:8080/",
          "height": 200
        },
        "id": "QfFqnieWgAkU",
        "outputId": "4f983cb6-d172-4912-fa5f-d096ad229fa1"
      },
      "outputs": [],
      "source": [
        "# the grape is not a very good column, lets remove it and describe it again\n",
        "df.drop(['grape'], axis=1, inplace=True)\n",
        "df.describe()"
      ]
    },
    {
      "cell_type": "code",
      "execution_count": null,
      "metadata": {
        "colab": {
          "base_uri": "https://localhost:8080/",
          "height": 380
        },
        "id": "1qdzqp5BenCs",
        "outputId": "ee80c522-fdb8-4f11-defe-c2fe929fd570"
      },
      "outputs": [],
      "source": [
        "from sklearn.cluster import KMeans\n",
        "# initialize KMeans object specifying the number of desired clusters\n",
        "kmeans = KMeans(n_clusters=4)\n",
        "\n",
        "\n",
        "# learning the clustering from the input date\n",
        "kmeans.fit(df.values)\n",
        "\n",
        "# output the labels for the input data\n",
        "print(kmeans.labels_)"
      ]
    }
  ],
  "metadata": {
    "colab": {
      "name": "Untitled",
      "provenance": []
    },
    "kernelspec": {
      "display_name": "Python 3.9.7 ('bootcamp')",
      "language": "python",
      "name": "python3"
    },
    "language_info": {
      "codemirror_mode": {
        "name": "ipython",
        "version": 3
      },
      "file_extension": ".py",
      "mimetype": "text/x-python",
      "name": "python",
      "nbconvert_exporter": "python",
      "pygments_lexer": "ipython3",
      "version": "3.9.7"
    },
    "vscode": {
      "interpreter": {
        "hash": "c376c902807b3e2787a1450a7f0ef802f0b8a461bc7d6f1e24062c1624bb252f"
      }
    }
  },
  "nbformat": 4,
  "nbformat_minor": 0
}
