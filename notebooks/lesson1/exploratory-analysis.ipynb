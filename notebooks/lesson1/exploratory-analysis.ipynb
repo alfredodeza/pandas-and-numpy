{
  "cells": [
    {
      "cell_type": "markdown",
      "metadata": {
        "id": "CKIUTNLp5Wrn"
      },
      "source": [
        "## Exploratory Analysis\n",
        "\n",
        "One of the main tasks to perform with Pandas is exploratory analysis. Looking at data, finding what is useful or potentially wrong with it so that you can clean it up are core practices of a data scientist and data engineer."
      ]
    },
    {
      "cell_type": "markdown",
      "metadata": {
        "id": "epd1j2QtbGkc"
      },
      "source": [
        "## Create a Pandas Dataframe \n",
        "Load a CSV to start working with the data and performing exploratory analysis."
      ]
    },
    {
      "cell_type": "code",
      "execution_count": null,
      "metadata": {
        "colab": {
          "base_uri": "https://localhost:8080/",
          "height": 536
        },
        "id": "KW8ppx1oZS00",
        "outputId": "69be5221-2a49-4900-8c88-2a3cfa0ebc28"
      },
      "outputs": [],
      "source": [
        "import pandas as pd\n",
        "csv_url = \"https://raw.githubusercontent.com/paiml/wine-ratings/main/wine-ratings.csv\"\n",
        "df = pd.read_csv(csv_url, index_col=0)"
      ]
    },
    {
      "cell_type": "code",
      "execution_count": null,
      "metadata": {},
      "outputs": [],
      "source": [
        "# The most common operation is with .head() \n",
        "df.head(15)"
      ]
    },
    {
      "cell_type": "code",
      "execution_count": null,
      "metadata": {},
      "outputs": [],
      "source": [
        "\n",
        "# Now lets get a description of the data\n",
        "df.describe()"
      ]
    },
    {
      "cell_type": "code",
      "execution_count": null,
      "metadata": {},
      "outputs": [],
      "source": [
        "# You can also get metadata about the dataset with .info()\n",
        "df.info()"
      ]
    },
    {
      "cell_type": "code",
      "execution_count": null,
      "metadata": {},
      "outputs": [],
      "source": [
        "# sort based on some condition\n",
        "df.sort_values(by=\"rating\", ascending=False).head()"
      ]
    },
    {
      "cell_type": "markdown",
      "metadata": {
        "id": "L2-be7klcP26"
      },
      "source": [
        "Remove any newlines or carriage returns"
      ]
    },
    {
      "cell_type": "code",
      "execution_count": null,
      "metadata": {
        "colab": {
          "base_uri": "https://localhost:8080/",
          "height": 536
        },
        "id": "Cwlr9IajcPSs",
        "outputId": "630d98c4-ddf0-4ded-85a7-9b5c3a274be5"
      },
      "outputs": [],
      "source": [
        "df = df.replace({\"\\r\": \"\"}, regex=True)\n",
        "df = df.replace({\"\\n\": \" \"}, regex=True)\n",
        "df.head(10)"
      ]
    },
    {
      "cell_type": "code",
      "execution_count": null,
      "metadata": {
        "colab": {
          "base_uri": "https://localhost:8080/",
          "height": 200
        },
        "id": "QfFqnieWgAkU",
        "outputId": "4f983cb6-d172-4912-fa5f-d096ad229fa1"
      },
      "outputs": [],
      "source": [
        "# the grape is not a very good column, lets remove it and describe it again\n",
        "df.drop(['grape'], axis=1, inplace=True)\n",
        "df.describe()"
      ]
    }
  ],
  "metadata": {
    "colab": {
      "name": "Untitled",
      "provenance": []
    },
    "kernelspec": {
      "display_name": "Python 3.9.7 ('bootcamp')",
      "language": "python",
      "name": "python3"
    },
    "language_info": {
      "codemirror_mode": {
        "name": "ipython",
        "version": 3
      },
      "file_extension": ".py",
      "mimetype": "text/x-python",
      "name": "python",
      "nbconvert_exporter": "python",
      "pygments_lexer": "ipython3",
      "version": "3.9.7"
    },
    "vscode": {
      "interpreter": {
        "hash": "c376c902807b3e2787a1450a7f0ef802f0b8a461bc7d6f1e24062c1624bb252f"
      }
    }
  },
  "nbformat": 4,
  "nbformat_minor": 0
}
